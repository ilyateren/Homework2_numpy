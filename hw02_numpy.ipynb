{
  "cells": [
    {
      "cell_type": "markdown",
      "source": [
        "## Домашнее задание 2 (5 баллов)\n",
        "\n",
        "Все задания ниже имеют равный вес (5/10)."
      ],
      "metadata": {
        "collapsed": false,
        "id": "HOBzBsPlPiIj"
      }
    },
    {
      "cell_type": "markdown",
      "source": [
        "### О задании\n",
        "\n",
        "В этом домашнем задании вы попрактикуетесь в работе с библиотекой numpy, которая позволяет сравнительно легко и удобно выполнять разнообразные вычисления, избегая самостоятельной реализации поэлементной обработки."
      ],
      "metadata": {
        "collapsed": false,
        "id": "9aFzJGCRPiIo"
      }
    },
    {
      "cell_type": "markdown",
      "source": [
        "Во всех задачах необходимо написать код решения внутри функции и убедиться, что она работает, с помощью [assert](https://python-reference.readthedocs.io/en/latest/docs/statements/assert.html) на выражение с использованием этой функции для данных из условия.\n",
        "\n",
        "При решении задач запрещается использовать циклы (`for`, `while`) и оператор `if`.\n",
        "\n",
        "Везде, где встречаются массивы или матрицы, подразумевается, что это `numpy.array`.\n",
        "\n",
        "**numpy reference:** https://numpy.org/doc/stable/reference/index.html"
      ],
      "metadata": {
        "collapsed": false,
        "id": "sPjcPCiaPiIp"
      }
    },
    {
      "cell_type": "code",
      "execution_count": 228,
      "outputs": [],
      "source": [
        "import numpy as np"
      ],
      "metadata": {
        "pycharm": {
          "name": "#%%\n"
        },
        "id": "M2vHTpeXPiIq"
      }
    },
    {
      "cell_type": "markdown",
      "source": [
        "### Задание 1"
      ],
      "metadata": {
        "collapsed": false,
        "id": "461od5w6PiIr"
      }
    },
    {
      "cell_type": "markdown",
      "source": [
        "Напишите функцию, возвращающую округленную взвешенную сумму оценок по данным оценкам и весам. Можете посчитать свою оценку за курс :) В нашем случае вес экзамена равен 0.3, вес домашек - 0.4, вес контрольной - 0.2, вес самостоятельных - 0.1. Например, если за экзамен у вас 7, за домашки 10, за контрольную 8, а за самостоятельные 6, то вы получите отличную оценку 8!"
      ],
      "metadata": {
        "collapsed": false,
        "id": "YtLqOd0SPiIs"
      }
    },
    {
      "cell_type": "code",
      "execution_count": 229,
      "outputs": [],
      "source": [
        "def result_mark(weights: np.array, marks: np.array) -> int:\n",
        "    return np.round(sum(weights * marks))"
      ],
      "metadata": {
        "pycharm": {
          "name": "#%%\n"
        },
        "id": "VIelPaQlPiIs"
      }
    },
    {
      "cell_type": "code",
      "execution_count": 230,
      "outputs": [],
      "source": [
        "weights = np.array([0.3, 0.4, 0.2, 0.1])\n",
        "marks = np.array([7, 10, 8, 6])\n",
        "\n",
        "assert result_mark(weights, marks) == 8"
      ],
      "metadata": {
        "pycharm": {
          "name": "#%%\n"
        },
        "id": "anSAoDhiPiIs"
      }
    },
    {
      "cell_type": "code",
      "execution_count": 231,
      "outputs": [],
      "source": [
        "weights = np.array([0.3, 0.4, 0.2, 0.1])\n",
        "marks = np.array([7, 0, 8, 6])\n",
        "\n",
        "assert result_mark(weights, marks) == 4"
      ],
      "metadata": {
        "pycharm": {
          "name": "#%%\n"
        },
        "id": "EmBIsfELPiIt"
      }
    },
    {
      "cell_type": "markdown",
      "source": [
        "### Задание 2"
      ],
      "metadata": {
        "collapsed": false,
        "id": "eswWPWfwPiIt"
      }
    },
    {
      "cell_type": "markdown",
      "source": [
        "Напишите функцию, меняющую каждое третье (начиная с 0) значение массива целых чисел на заданное число. Например, если на вход поступает массив `array([3, 5, 1, 0, -3, 22, 213436])` и число `-111`, то на выходе должен получиться массив `array([-111, 5, 1, -111, -3, 22, -111])`."
      ],
      "metadata": {
        "collapsed": false,
        "id": "rMDekig9PiIu"
      }
    },
    {
      "cell_type": "code",
      "execution_count": 232,
      "outputs": [],
      "source": [
        "def change_array(array: np.array, number: int) -> np.array:\n",
        "    array[::3] = number\n",
        "    return array"
      ],
      "metadata": {
        "pycharm": {
          "name": "#%%\n"
        },
        "id": "xi4KHQIIPiIu"
      }
    },
    {
      "cell_type": "code",
      "execution_count": 233,
      "outputs": [],
      "source": [
        "array = np.array([3, 5, 1, 0, -3, 22, 213436])\n",
        "number = -111\n",
        "\n",
        "assert np.allclose(change_array(array, number), np.array([-111, 5, 1, -111, -3, 22, -111]))"
      ],
      "metadata": {
        "pycharm": {
          "name": "#%%\n"
        },
        "id": "E-p6HwtvPiIu"
      }
    },
    {
      "cell_type": "code",
      "execution_count": 234,
      "outputs": [],
      "source": [
        "array = np.array([3, 14, 15, 92, 6])\n",
        "number = 8\n",
        "\n",
        "assert np.allclose(change_array(array, number), np.array([8, 14, 15, 8, 6]))"
      ],
      "metadata": {
        "pycharm": {
          "name": "#%%\n"
        },
        "id": "bF7bMpNaPiIv"
      }
    },
    {
      "cell_type": "markdown",
      "source": [
        "### Задание 3"
      ],
      "metadata": {
        "collapsed": false,
        "id": "2lvEWPtDPiIv"
      }
    },
    {
      "cell_type": "markdown",
      "source": [
        "Напишите функцию, выдающую индексы «близких» элементов заданных массивов, а именно тех пар элементов, чей модуль разницы не превосходит заданного значения. Например, если на вход поступают массив `array([1.5, 0.5, 2, -4.1, -3, 6, -1])`, массив `array([1.2, 0.5, 1, -4, 3, 0, -1.2])` и число `0.5`, то на выходе должен получиться массив `array([0, 1, 3, 6])` (**важно: не `tuple`, а одномерный массив типа `numpy.ndarray` (то есть `.ndim` от него равно 1)!**)."
      ],
      "metadata": {
        "collapsed": false,
        "id": "BqiZF7pHPiIv"
      }
    },
    {
      "cell_type": "code",
      "execution_count": 235,
      "outputs": [],
      "source": [
        "def find_close(array1: np.array, array2: np.array,\n",
        "               precision: float) -> np.array:\n",
        "    dif = abs(array1 - array2)\n",
        "    res = np.where(dif <= precision)[0]\n",
        "    return res"
      ],
      "metadata": {
        "pycharm": {
          "name": "#%%\n"
        },
        "id": "RbZAmAMcPiIw"
      }
    },
    {
      "cell_type": "code",
      "execution_count": 236,
      "outputs": [],
      "source": [
        "array1 = np.array([1.5, 0.5, 2, -4.1, -3, 6, -1])\n",
        "array2 = np.array([1.2, 0.5, 1, -4.0,  3, 0, -1.2])\n",
        "precision = 0.5\n",
        "res = find_close(array1, array2, precision)\n",
        "\n",
        "assert res.ndim == 1\n",
        "assert np.allclose(res, np.array([0, 1, 3, 6]))"
      ],
      "metadata": {
        "pycharm": {
          "name": "#%%\n"
        },
        "id": "GR3igVkpPiIw"
      }
    },
    {
      "cell_type": "code",
      "execution_count": 237,
      "outputs": [],
      "source": [
        "array1 = np.array([3.1415, 2.7182, 1.6180, 6.6261])\n",
        "array2 = np.array([6.6730, 1.3807, -1,     6.0222])\n",
        "precision = 1.7\n",
        "res = find_close(array1, array2, precision)\n",
        "\n",
        "assert res.ndim == 1\n",
        "assert np.allclose(res, np.array([1, 3]))"
      ],
      "metadata": {
        "pycharm": {
          "name": "#%%\n"
        },
        "id": "Vo6fja3BPiIx"
      }
    },
    {
      "cell_type": "markdown",
      "source": [
        "### Задание 4"
      ],
      "metadata": {
        "collapsed": false,
        "id": "eG28Q4Q-PiIy"
      }
    },
    {
      "cell_type": "markdown",
      "source": [
        "Напишите функцию, которая составляет блочную матрицу из четырех блоков, где каждый блок - это заданная матрица. Например, если на вход поступает матрица\n",
        "$$\n",
        "\\begin{pmatrix}\n",
        "0 & 1 & 2\\\\\n",
        "3 & 4 & 5\\\\\n",
        "\\end{pmatrix},\n",
        "$$\n",
        "то ответом будет матрица\n",
        "$$\n",
        "\\begin{pmatrix}\n",
        "0 & 1 & 2 & 0 & 1 & 2\\\\\n",
        "3 & 4 & 5 & 3 & 4 & 5\\\\\n",
        "0 & 1 & 2 & 0 & 1 & 2\\\\\n",
        "3 & 4 & 5 & 3 & 4 & 5\\\\\n",
        "\\end{pmatrix}\n",
        "$$"
      ],
      "metadata": {
        "collapsed": false,
        "id": "Luouy4BLPiIy"
      }
    },
    {
      "cell_type": "code",
      "execution_count": 238,
      "outputs": [],
      "source": [
        "def block_matrix(block: np.array) -> np.array:\n",
        "    block = np.hstack((block, block))\n",
        "    block = np.vstack((block, block))\n",
        "    return block"
      ],
      "metadata": {
        "pycharm": {
          "name": "#%%\n"
        },
        "id": "ldHzhksxPiIy"
      }
    },
    {
      "cell_type": "code",
      "execution_count": 239,
      "outputs": [],
      "source": [
        "block = np.array([[1, 3, 3], [7, 0, 0]])\n",
        "\n",
        "assert np.allclose(\n",
        "    block_matrix(block),\n",
        "    np.array([[1, 3, 3, 1, 3, 3],\n",
        "              [7, 0, 0, 7, 0, 0],\n",
        "              [1, 3, 3, 1, 3, 3],\n",
        "              [7, 0, 0, 7, 0, 0]])\n",
        ")"
      ],
      "metadata": {
        "pycharm": {
          "name": "#%%\n"
        },
        "id": "yqmWEywCPiIz"
      }
    },
    {
      "cell_type": "markdown",
      "source": [
        "### Задание 5"
      ],
      "metadata": {
        "collapsed": false,
        "id": "MB47WmyYPiIz"
      }
    },
    {
      "cell_type": "markdown",
      "source": [
        "Напишите функцию, вычисляющую произведение всех ненулевых диагональных элементов на диагонали данной квадратной матрицы. Например, если на вход поступает матрица\n",
        "$$\n",
        "\\begin{pmatrix}\n",
        "0 & 1 & 2\\\\\n",
        "3 & 4 & 5\\\\\n",
        "6 & 7 & 8\\\\\n",
        "\\end{pmatrix},\n",
        "$$\n",
        "то ответом будет 32.\n",
        "\n",
        "Элементы матрицы считать целочисленными."
      ],
      "metadata": {
        "collapsed": false,
        "id": "HOeXOmN7PiIz"
      }
    },
    {
      "cell_type": "code",
      "execution_count": 240,
      "outputs": [],
      "source": [
        "def diag_prod(matrix: np.array) -> int:\n",
        "  diag = np.diagonal(matrix)\n",
        "  diag = diag[diag != 0]\n",
        "  return np.prod(diag)"
      ],
      "metadata": {
        "pycharm": {
          "name": "#%%\n"
        },
        "id": "SvCObN2aPiIz"
      }
    },
    {
      "cell_type": "code",
      "execution_count": 241,
      "outputs": [],
      "source": [
        "matrix = np.array([[0, 1, 2, 3],\n",
        "                   [4, 5, 6, 7],\n",
        "                   [8, 9, 10, 11],\n",
        "                   [12, 13, 14, 15]])\n",
        "\n",
        "assert diag_prod(matrix) == 750"
      ],
      "metadata": {
        "pycharm": {
          "name": "#%%\n"
        },
        "id": "Pjw09kqjPiI0"
      }
    },
    {
      "cell_type": "markdown",
      "source": [
        "### Задание 6"
      ],
      "metadata": {
        "collapsed": false,
        "id": "hnUF9_lPPiI0"
      }
    },
    {
      "cell_type": "markdown",
      "source": [
        "Для улучшения качества работы некоторых алгоритмов машинного обучения может быть полезно использовать [нормализацию данных](https://vk.cc/8xmfQk), чтобы привести признаки в выборке к одному масштабу — а именно, из каждого столбца вычесть среднее его значений и поделить на их стандартное отклонение. Напишите функцию, нормализующую входящую матрицу (по столбцам). Например, если на вход подается матрица\n",
        "$$\n",
        "\\begin{pmatrix}\n",
        "1 & 4 & 4200\\\\\n",
        "0 & 10 & 5000\\\\\n",
        "1 & 2 & 1000\\\\\n",
        "\\end{pmatrix},\n",
        "$$\n",
        "то результатом с точностью до сотых будет матрица\n",
        "$$\n",
        "\\begin{pmatrix}\n",
        "0.71 & -0.39 & 0.46\\\\\n",
        "-1.41 & 1.37 & 0.93\\\\\n",
        "0.71 & -0.98 & -1.39\\\\\n",
        "\\end{pmatrix}\n",
        "$$\n",
        "\n",
        "Учтите, что в вашем матрице не должно получаться никаких nan. Подумайте, в каком случае они могут возникнуть и как обойти эту проблему.\n",
        "\n",
        "_Подсказка. Казалось бы, при чем тут деление на ноль._"
      ],
      "metadata": {
        "collapsed": false,
        "id": "uUeIpvOePiI0"
      }
    },
    {
      "cell_type": "code",
      "execution_count": 242,
      "outputs": [],
      "source": [
        "def normalize(matrix: np.array) -> np.array:\n",
        "  sr = sum(matrix[:, :]) / len(matrix)\n",
        "  otkl = np.sqrt((sum((matrix[:, :] - sr) ** 2) ) / len(matrix))\n",
        "  otkl[otkl == 0] = 1\n",
        "  res = (matrix[:, :] - sr) / otkl\n",
        "  return np.round(res, 5)"
      ],
      "metadata": {
        "pycharm": {
          "name": "#%%\n"
        },
        "id": "2DF2uG-OPiI0"
      }
    },
    {
      "cell_type": "code",
      "execution_count": 243,
      "outputs": [],
      "source": [
        "matrix = np.array([[1, 4, 4200], [0, 10, 5000], [1, 2, 1000]])\n",
        "\n",
        "assert np.allclose(\n",
        "    normalize(matrix),\n",
        "    np.array([[ 0.70711, -0.39223,  0.46291],\n",
        "              [-1.41421,  1.37281,  0.92582],\n",
        "              [ 0.70711, -0.98058, -1.38873]])\n",
        ")"
      ],
      "metadata": {
        "pycharm": {
          "name": "#%%\n"
        },
        "id": "vI9PxY73PiI0"
      }
    },
    {
      "cell_type": "code",
      "execution_count": 244,
      "outputs": [],
      "source": [
        "matrix = np.array([[-7, 2, 42], [2, 10, 50], [5, 4, 10]])\n",
        "\n",
        "assert np.allclose(\n",
        "    normalize(matrix),\n",
        "    np.array([[-1.37281, -0.98058,  0.46291],\n",
        "              [ 0.39223,  1.37281,  0.92582],\n",
        "              [ 0.98058, -0.39223, -1.38873]])\n",
        ")"
      ],
      "metadata": {
        "pycharm": {
          "name": "#%%\n"
        },
        "id": "OUdyjcz9PiI1"
      }
    },
    {
      "cell_type": "markdown",
      "source": [
        "### Задание 7"
      ],
      "metadata": {
        "collapsed": false,
        "id": "5pJEzlevPiI1"
      }
    },
    {
      "cell_type": "markdown",
      "source": [
        "Напишите функцию, вычисляющую какую-нибудь первообразную данного полинома (в качестве константы возьмите $0$). Например, если на вход поступает массив коэффициентов `array([4, 6, 0, 1])`, что соответствует полиному $4x^3 + 6x^2 + 1$, на выходе получается массив коэффициентов `array([1, 2, 0, 1, -2])`, соответствующий полиному $x^4 + 2x^3 + x - 2$."
      ],
      "metadata": {
        "collapsed": false,
        "id": "xzK_N7BOPiI1"
      }
    },
    {
      "cell_type": "code",
      "execution_count": 245,
      "outputs": [],
      "source": [
        "def antiderivative(coefs: np.array) -> np.array:\n",
        "    pow = np.arange(len(coefs) + 1)[:0:-1]\n",
        "    res = coefs / pow\n",
        "    res = np.append(res, 0)\n",
        "    return res"
      ],
      "metadata": {
        "pycharm": {
          "name": "#%%\n"
        },
        "id": "Jv3Eez6zPiI1"
      }
    },
    {
      "cell_type": "code",
      "execution_count": 246,
      "outputs": [],
      "source": [
        "coefs = np.array([4, 6, 0, 1])\n",
        "\n",
        "assert np.allclose(\n",
        "    antiderivative(coefs),\n",
        "    np.array([1., 2., 0., 1., 0.])\n",
        ")"
      ],
      "metadata": {
        "pycharm": {
          "name": "#%%\n"
        },
        "id": "iXzZ9jb9PiI1"
      }
    },
    {
      "cell_type": "code",
      "execution_count": 247,
      "outputs": [],
      "source": [
        "coefs = np.array([1, 7, -12, 21, -6])\n",
        "\n",
        "assert np.allclose(\n",
        "    antiderivative(coefs),\n",
        "    np.array([ 0.2, 1.75, -4., 10.5, -6., 0.])\n",
        ")"
      ],
      "metadata": {
        "pycharm": {
          "name": "#%%\n"
        },
        "id": "HDO-kCrQPiI2"
      }
    },
    {
      "cell_type": "markdown",
      "source": [
        "### Задание 8"
      ],
      "metadata": {
        "collapsed": false,
        "id": "8sCbKgWPPiI2"
      }
    },
    {
      "cell_type": "markdown",
      "source": [
        "Напишите функцию, делающую данную [треугольную матрицу](https://ru.wikipedia.org/wiki/%D0%A2%D1%80%D0%B5%D1%83%D0%B3%D0%BE%D0%BB%D1%8C%D0%BD%D0%B0%D1%8F_%D0%BC%D0%B0%D1%82%D1%80%D0%B8%D1%86%D0%B0) симметричной. Например, если на вход поступает матрица\n",
        "$$\n",
        "\\begin{pmatrix}\n",
        "1 & 2 & 3 & 4\\\\\n",
        "0 & 5 & 6 & 7\\\\\n",
        "0 & 0 & 8 & 9\\\\\n",
        "0 & 0 & 0 & 10\\\\\n",
        "\\end{pmatrix},\n",
        "$$\n",
        "то на выходе должна быть матрица\n",
        "$$\n",
        "\\begin{pmatrix}\n",
        "1 & 2 & 3 & 4\\\\\n",
        "2 & 5 & 6 & 7\\\\\n",
        "3 & 6 & 8 & 9\\\\\n",
        "4 & 7 & 9 & 10\\\\\n",
        "\\end{pmatrix}.\n",
        "$$"
      ],
      "metadata": {
        "collapsed": false,
        "id": "2BlGl5iWPiI2"
      }
    },
    {
      "cell_type": "code",
      "execution_count": 248,
      "outputs": [],
      "source": [
        "def make_symmetric(matrix: np.array) -> np.array:\n",
        "  matrix[np.where(matrix)[1], np.where(matrix)[0]] = matrix[np.where(matrix)[0], np.where(matrix)[1]]\n",
        "  return matrix"
      ],
      "metadata": {
        "pycharm": {
          "name": "#%%\n"
        },
        "id": "3Cei_LBVPiI8"
      }
    },
    {
      "cell_type": "code",
      "execution_count": 249,
      "outputs": [],
      "source": [
        "matrix = np.array([[1, 2, 3, 4], [0, 5, 6, 7], [0, 0, 8, 9], [0, 0, 0, 10]])\n",
        "\n",
        "assert np.allclose(\n",
        "    make_symmetric(matrix),\n",
        "    np.array([[ 1,  2,  3,  4],\n",
        "              [ 2,  5,  6,  7],\n",
        "              [ 3,  6,  8,  9],\n",
        "              [ 4,  7,  9, 10]])\n",
        ")"
      ],
      "metadata": {
        "pycharm": {
          "name": "#%%\n"
        },
        "id": "3hllG7KIPiI8"
      }
    },
    {
      "cell_type": "code",
      "execution_count": 250,
      "outputs": [],
      "source": [
        "matrix = np.array([[10, 21, 32, 49], [0, 53, 62, 78], [0, 0, 82, 92], [0, 0, 0, 10]])\n",
        "\n",
        "assert np.allclose(\n",
        "    make_symmetric(matrix),\n",
        "    np.array([[10, 21, 32, 49],\n",
        "              [21, 53, 62, 78],\n",
        "              [32, 62, 82, 92],\n",
        "              [49, 78, 92, 10]])\n",
        ")"
      ],
      "metadata": {
        "pycharm": {
          "name": "#%%\n"
        },
        "id": "uMD6CrIWPiI8"
      }
    },
    {
      "cell_type": "markdown",
      "source": [
        "### Задание 9"
      ],
      "metadata": {
        "collapsed": false,
        "id": "49fSKXQmPiI9"
      }
    },
    {
      "cell_type": "markdown",
      "source": [
        "Напишите функцию, создающую прямоугольную матрицу из m одинаковых строк, заполненных последовательными натуральными числами от a до b включительно в возрастающем порядке. Например, если m = 5, a = 3, b = 10, то на выходе будет матрица\n",
        "$$\n",
        "\\begin{pmatrix}\n",
        "3 & 4 & 5 & 6 & 7 & 8 & 9 & 10\\\\\n",
        "3 & 4 & 5 & 6 & 7 & 8 & 9 & 10\\\\\n",
        "3 & 4 & 5 & 6 & 7 & 8 & 9 & 10\\\\\n",
        "3 & 4 & 5 & 6 & 7 & 8 & 9 & 10\\\\\n",
        "3 & 4 & 5 & 6 & 7 & 8 & 9 & 10\\\\\n",
        "\\end{pmatrix}\n",
        "$$"
      ],
      "metadata": {
        "collapsed": false,
        "id": "kkOmkJayPiI9"
      }
    },
    {
      "cell_type": "code",
      "execution_count": 251,
      "outputs": [],
      "source": [
        "def construct_matrix(m: int, a: int, b: int) -> np.array:\n",
        "    str = np.arange(a, b + 1)\n",
        "    matrix = np.ones((m, len(str)), dtype = int)\n",
        "    matrix[:] = str\n",
        "    return matrix"
      ],
      "metadata": {
        "pycharm": {
          "name": "#%%\n"
        },
        "id": "m3pGsuNmPiI9"
      }
    },
    {
      "cell_type": "code",
      "execution_count": 252,
      "outputs": [],
      "source": [
        "m = 5\n",
        "a = 3\n",
        "b = 10\n",
        "\n",
        "assert np.allclose(\n",
        "    construct_matrix(m, a, b),\n",
        "    np.array([[ 3,  4,  5,  6,  7,  8,  9, 10],\n",
        "              [ 3,  4,  5,  6,  7,  8,  9, 10],\n",
        "              [ 3,  4,  5,  6,  7,  8,  9, 10],\n",
        "              [ 3,  4,  5,  6,  7,  8,  9, 10],\n",
        "              [ 3,  4,  5,  6,  7,  8,  9, 10]])\n",
        ")"
      ],
      "metadata": {
        "pycharm": {
          "name": "#%%\n"
        },
        "id": "CwAFkOXDPiI9"
      }
    },
    {
      "cell_type": "code",
      "execution_count": 253,
      "outputs": [],
      "source": [
        "m = 3\n",
        "a = 2\n",
        "b = 6\n",
        "\n",
        "assert np.allclose(\n",
        "    construct_matrix(m, a, b),\n",
        "    np.array([[2, 3, 4, 5, 6],\n",
        "              [2, 3, 4, 5, 6],\n",
        "              [2, 3, 4, 5, 6]])\n",
        ")"
      ],
      "metadata": {
        "pycharm": {
          "name": "#%%\n"
        },
        "id": "CO-BLb9zPiI9"
      }
    },
    {
      "cell_type": "markdown",
      "source": [
        "### Задание 10"
      ],
      "metadata": {
        "collapsed": false,
        "id": "2fzxiV1TPiI9"
      }
    },
    {
      "cell_type": "markdown",
      "source": [
        "Напишите функцию, вычисляющую [косинусную близость](https://en.wikipedia.org/wiki/Cosine_similarity) двух векторов. Например, если на вход поступают вектора `array([-2, 1, 0, -5, 4, 3, -3])` и `array([0, 2, -2, 10, 6, 0, 0])`, ответом будет -0.25."
      ],
      "metadata": {
        "collapsed": false,
        "id": "JrbNMU7NPiI-"
      }
    },
    {
      "cell_type": "code",
      "execution_count": 254,
      "outputs": [],
      "source": [
        "def cosine_similarity(vec1: np.array, vec2: np.array) -> float:\n",
        "  scal_prod = sum(vec1 * vec2)\n",
        "  len_vec = np.sqrt(sum(vec1[:] ** 2) * sum(vec2[:] ** 2))\n",
        "  return scal_prod / len_vec"
      ],
      "metadata": {
        "pycharm": {
          "name": "#%%\n"
        },
        "id": "xbe8du2hPiI-"
      }
    },
    {
      "cell_type": "code",
      "execution_count": 255,
      "outputs": [],
      "source": [
        "vec1 = np.array([-2, 1,  0, -5, 4, 3, -3])\n",
        "vec2 = np.array([ 0, 2, -2, 10, 6, 0,  0])\n",
        "\n",
        "assert np.allclose(cosine_similarity(vec1, vec2), -0.25)"
      ],
      "metadata": {
        "pycharm": {
          "name": "#%%\n"
        },
        "id": "L9gYvufpPiI-"
      }
    },
    {
      "cell_type": "code",
      "execution_count": 256,
      "outputs": [],
      "source": [
        "vec1 = np.array([-4, 2,  9, -8, 9, 0, -2])\n",
        "vec2 = np.array([ 3, 2, -4, -1, 3, 2,  2])\n",
        "\n",
        "assert np.allclose(cosine_similarity(vec1, vec2), -0.119929)"
      ],
      "metadata": {
        "pycharm": {
          "name": "#%%\n"
        },
        "id": "wmV3JXdNPiI-"
      }
    }
  ],
  "metadata": {
    "kernelspec": {
      "display_name": "Python 3",
      "language": "python",
      "name": "python3"
    },
    "language_info": {
      "codemirror_mode": {
        "name": "ipython",
        "version": 3
      },
      "file_extension": ".py",
      "mimetype": "text/x-python",
      "name": "python",
      "nbconvert_exporter": "python",
      "pygments_lexer": "ipython3",
      "version": "3.6.3"
    },
    "colab": {
      "provenance": []
    }
  },
  "nbformat": 4,
  "nbformat_minor": 0
}